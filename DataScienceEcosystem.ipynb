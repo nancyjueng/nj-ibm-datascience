{
 "cells": [
  {
   "cell_type": "markdown",
   "id": "89816cd0-9640-4ecd-a4e9-999d53ad64d1",
   "metadata": {},
   "source": [
    "# Data Science Tools and Ecosystem"
   ]
  },
  {
   "cell_type": "markdown",
   "id": "7cb17d9e-facf-4eca-b2de-c1d831ef6d9b",
   "metadata": {},
   "source": [
    "In this notebook, Data Science Tools and Ecosystem are summarized."
   ]
  },
  {
   "cell_type": "markdown",
   "id": "c5acabc9-5658-4c68-a366-6832efce45da",
   "metadata": {},
   "source": [
    "**Objectives:**\n",
    "* List popular languages for Data Science\n",
    "* List commonly used libraries used by Data Scientists\n",
    "* List at least three development environment open source tools used in data science.\n",
    "* Write an example of evaluating arithmetic expression in Python such as; add, minus, multiply, divide\n"
   ]
  },
  {
   "cell_type": "markdown",
   "id": "43e86cde-4b04-4766-bbc9-c3860198c11d",
   "metadata": {},
   "source": [
    "Some of the popular languages that Data Scientists use are:\n",
    "1. Python\n",
    "2. R\n",
    "3. SQL\n",
    "4. Scala\n",
    "5. Java\n",
    "6. C++\n",
    "7. Julia\n",
    "\n",
    "etc."
   ]
  },
  {
   "cell_type": "markdown",
   "id": "247f88e9-19ff-476b-81e8-a36e8246ee9a",
   "metadata": {},
   "source": [
    "Some of the commonly used libraries used by Data Scientists include:\n",
    "1. TensorFlow\n",
    "2. PyTorch\n",
    "3. Keras\n",
    "4. Scikit-learn"
   ]
  },
  {
   "cell_type": "markdown",
   "id": "fd9746a4-a6c4-4f23-9aa2-997a6feede02",
   "metadata": {},
   "source": [
    "Data Science Tools|\n",
    "--- | \n",
    "Jupyter|\n",
    "RStudio|\n",
    "Apache Zeppelin|"
   ]
  },
  {
   "cell_type": "markdown",
   "id": "2b3c38a7-ca58-4782-85e8-70571eff8a21",
   "metadata": {},
   "source": [
    "### Below are a few examples of evaluating arithmetic expressions in Python."
   ]
  },
  {
   "cell_type": "code",
   "execution_count": 34,
   "id": "5540224e-82ef-49ab-a8df-5b2fe7b2e023",
   "metadata": {},
   "outputs": [
    {
     "data": {
      "text/plain": [
       "17"
      ]
     },
     "execution_count": 34,
     "metadata": {},
     "output_type": "execute_result"
    }
   ],
   "source": [
    "# This is a simple arithmetic expression to multiply then add integers\n",
    "\n",
    "(3*4)+5"
   ]
  },
  {
   "cell_type": "code",
   "execution_count": 36,
   "id": "3e0a6798-ab50-425b-b1ae-dea2d90fc282",
   "metadata": {},
   "outputs": [
    {
     "data": {
      "text/plain": [
       "3.3333333333333335"
      ]
     },
     "execution_count": 36,
     "metadata": {},
     "output_type": "execute_result"
    }
   ],
   "source": [
    "# This will convert 200 minutes to hours by dividing by 60\n",
    "\n",
    "200/60"
   ]
  },
  {
   "cell_type": "markdown",
   "id": "28af1569-158c-4464-84d2-2aa31f29b91f",
   "metadata": {},
   "source": [
    "## Author\n",
    "\n",
    "[Nannapat Juengsiriwatthanakun](https://www.linkedin.com/in/nannapat-jochmann/)"
   ]
  },
  {
   "cell_type": "code",
   "execution_count": null,
   "id": "9b330e34-6733-44de-b705-a6809decae3c",
   "metadata": {},
   "outputs": [],
   "source": []
  }
 ],
 "metadata": {
  "kernelspec": {
   "display_name": "Python 3 (ipykernel)",
   "language": "python",
   "name": "python3"
  },
  "language_info": {
   "codemirror_mode": {
    "name": "ipython",
    "version": 3
   },
   "file_extension": ".py",
   "mimetype": "text/x-python",
   "name": "python",
   "nbconvert_exporter": "python",
   "pygments_lexer": "ipython3",
   "version": "3.9.13"
  }
 },
 "nbformat": 4,
 "nbformat_minor": 5
}
